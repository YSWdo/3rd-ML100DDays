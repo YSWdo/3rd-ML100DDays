{
 "cells": [
  {
   "cell_type": "markdown",
   "metadata": {},
   "source": [
    "## [作業目標]\n",
    "了解機器學習適合應用的領域與範疇。"
   ]
  },
  {
   "cell_type": "markdown",
   "metadata": {},
   "source": [
    "## [作業重點]\n",
    "透過瞭解機器學習的運作方式，找出非常適用機器學習應用的領域及其原因"
   ]
  },
  {
   "cell_type": "markdown",
   "metadata": {},
   "source": [
    "## 作業\n",
    "請找出一個你認為機器學習可以發光發熱的領域並闡述原因? \n",
    "\n",
    "\n",
    "\n"
   ]
  },
  {
   "cell_type": "code",
   "execution_count": null,
   "metadata": {},
   "outputs": [],
   "source": [
    "   從教材中可以看到這一段話，機器學習其實是實現⼈人⼯工智慧的技術之⼀，\n",
    "\n",
    "我馬上聯想到，近期吳恩達教授來臺的演講: What’s next in AI \n",
    "\n",
    "\" AI next is its rise outside the software industry \"\n",
    "\n",
    "人工智慧是要運用在各行各業當中，製造業、金融業、農業等；\n",
    "\n",
    "所以我認為，在各個領域都有應有適合的應用及方式去建構，不一定是指單一族群，\n",
    "\n",
    "藉此幫助產業升級，我想對人類科技進步是很重要的。"
   ]
  }
 ],
 "metadata": {
  "kernelspec": {
   "display_name": "Python 3",
   "language": "python",
   "name": "python3"
  },
  "language_info": {
   "codemirror_mode": {
    "name": "ipython",
    "version": 3
   },
   "file_extension": ".py",
   "mimetype": "text/x-python",
   "name": "python",
   "nbconvert_exporter": "python",
   "pygments_lexer": "ipython3",
   "version": "3.6.4"
  }
 },
 "nbformat": 4,
 "nbformat_minor": 2
}
