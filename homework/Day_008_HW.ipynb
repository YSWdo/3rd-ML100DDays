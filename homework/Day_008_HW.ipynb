{
 "cells": [
  {
   "cell_type": "markdown",
   "metadata": {},
   "source": [
    "# [作業目標]\n",
    "- 對資料做更多處理 : 顯示特定欄位的統計值與直方圖"
   ]
  },
  {
   "cell_type": "markdown",
   "metadata": {},
   "source": [
    "# [作業重點]\n",
    "- 試著顯示特定欄位的基礎統計數值 (In[4], Out[4], Hint : describe())\n",
    "- 試著顯示特定欄位的直方圖 (In[5], Out[5], Hint : .hist())"
   ]
  },
  {
   "cell_type": "code",
   "execution_count": 1,
   "metadata": {},
   "outputs": [],
   "source": [
    "# Import 需要的套件\n",
    "import os\n",
    "import numpy as np\n",
    "import pandas as pd\n",
    "\n",
    "# 設定 data_path\n",
    "dir_data = 'E:\\\\100day_code\\\\Part01\\\\'"
   ]
  },
  {
   "cell_type": "code",
   "execution_count": 2,
   "metadata": {},
   "outputs": [],
   "source": [
    "f_app_train = os.path.join(dir_data, 'application_train.csv')\n",
    "app_train = pd.read_csv(f_app_train)\n",
    "# app_train.head()"
   ]
  },
  {
   "cell_type": "code",
   "execution_count": 3,
   "metadata": {},
   "outputs": [],
   "source": [
    "import matplotlib.pyplot as plt\n",
    "%matplotlib inline"
   ]
  },
  {
   "cell_type": "markdown",
   "metadata": {},
   "source": [
    "## 練習時間"
   ]
  },
  {
   "cell_type": "markdown",
   "metadata": {},
   "source": [
    "觀察有興趣的欄位的資料分佈，並嘗試找出有趣的訊息\n",
    "#### Eg\n",
    "- 計算任意欄位的平均數及標準差\n",
    "- 畫出任意欄位的[直方圖](https://zh.wikipedia.org/zh-tw/%E7%9B%B4%E6%96%B9%E5%9B%BE)\n",
    "\n",
    "### Hints:\n",
    "- [Descriptive Statistics For pandas Dataframe](https://chrisalbon.com/python/data_wrangling/pandas_dataframe_descriptive_stats/)\n",
    "- [pandas 中的繪圖函數](https://amaozhao.gitbooks.io/pandas-notebook/content/pandas%E4%B8%AD%E7%9A%84%E7%BB%98%E5%9B%BE%E5%87%BD%E6%95%B0.html)\n"
   ]
  },
  {
   "cell_type": "code",
   "execution_count": 4,
   "metadata": {},
   "outputs": [
    {
     "name": "stdout",
     "output_type": "stream",
     "text": [
      "object\n"
     ]
    },
    {
     "data": {
      "text/plain": [
       "count     307511\n",
       "unique         3\n",
       "top            F\n",
       "freq      202448\n",
       "Name: CODE_GENDER, dtype: object"
      ]
     },
     "execution_count": 4,
     "metadata": {},
     "output_type": "execute_result"
    }
   ],
   "source": [
    "\n",
    "appt=app_train['CODE_GENDER'].dtypes\n",
    "print(appt)\n",
    "\n",
    "appt_sum=app_train['CODE_GENDER'].sum()\n",
    "appt_sum\n",
    "# 印出code_gender的加總\n",
    "\n",
    "\n",
    "appt_des=app_train['CODE_GENDER'].describe()\n",
    "appt_des\n",
    "# 印出列表資訊\n",
    "\n",
    "# appt_max=app_train['CODE_GENDER'].max()\n",
    "# appt_max\n",
    "# 印出最大數 但怪怪的\n",
    "\n",
    "# appt_std=app_train['CODE_GENDER'].std()\n",
    "# appt_std\n",
    "# 字串無法進行STD\n",
    "\n"
   ]
  },
  {
   "cell_type": "code",
   "execution_count": 5,
   "metadata": {},
   "outputs": [
    {
     "name": "stdout",
     "output_type": "stream",
     "text": [
      "   CODE_GENDER_F  CODE_GENDER_M  CODE_GENDER_XNA\n",
      "0              0              1                0\n",
      "1              1              0                0\n",
      "2              0              1                0\n",
      "3              1              0                0\n",
      "4              0              1                0\n",
      "C_F_sum :202448\n",
      "C_M_sum :105059\n",
      "C_X_sum :4\n"
     ]
    }
   ],
   "source": [
    "appt_df = app_train['CODE_GENDER']\n",
    "\n",
    "\n",
    "# appt_df.columns = ['GENDER']\n",
    "# appt_df.reset_index()\n",
    "# 對 dataframe的資料 取其中 一項進行改columns 是沒有用的\n",
    "\n",
    "\n",
    "sub_train = pd.DataFrame(app_train['CODE_GENDER'])\n",
    "# print(sub_train)\n",
    "\n",
    "sub_train = pd.get_dummies(sub_train)\n",
    "print(sub_train.head())\n",
    "\n",
    "C_F = sub_train['CODE_GENDER_F'].sum()\n",
    "C_M = sub_train['CODE_GENDER_M'].sum()\n",
    "C_X = sub_train['CODE_GENDER_XNA'].sum()\n",
    "\n",
    "print(f'C_F_sum :{C_F}')\n",
    "print(f'C_M_sum :{C_M}')\n",
    "print(f'C_X_sum :{C_X}')"
   ]
  },
  {
   "cell_type": "code",
   "execution_count": 6,
   "metadata": {},
   "outputs": [
    {
     "data": {
      "text/plain": [
       "(array([2.02448e+05, 0.00000e+00, 0.00000e+00, 0.00000e+00, 0.00000e+00,\n",
       "        1.05059e+05, 0.00000e+00, 0.00000e+00, 0.00000e+00, 4.00000e+00]),\n",
       " array([0. , 0.2, 0.4, 0.6, 0.8, 1. , 1.2, 1.4, 1.6, 1.8, 2. ]),\n",
       " <a list of 10 Patch objects>)"
      ]
     },
     "execution_count": 6,
     "metadata": {},
     "output_type": "execute_result"
    },
    {
     "data": {
      "image/png": "[encoded data removed]",
      "text/plain": [
       "<matplotlib.figure.Figure at 0x27e101bfc50>"
      ]
     },
     "metadata": {},
     "output_type": "display_data"
    }
   ],
   "source": [
    "plt.hist(app_train['CODE_GENDER'])"
   ]
  },
  {
   "cell_type": "code",
   "execution_count": 7,
   "metadata": {},
   "outputs": [
    {
     "data": {
      "text/plain": [
       "<matplotlib.axes._subplots.AxesSubplot at 0x27e12fd27f0>"
      ]
     },
     "execution_count": 7,
     "metadata": {},
     "output_type": "execute_result"
    },
    {
     "data": {
      "image/png": "[encoded data removed]",
      "text/plain": [
       "<matplotlib.figure.Figure at 0x27e12fb9978>"
      ]
     },
     "metadata": {},
     "output_type": "display_data"
    }
   ],
   "source": [
    "app_train.CODE_GENDER.hist()"
   ]
  },
  {
   "cell_type": "code",
   "execution_count": null,
   "metadata": {},
   "outputs": [],
   "source": []
  }
 ],
 "metadata": {
  "kernelspec": {
   "display_name": "Python 3",
   "language": "python",
   "name": "python3"
  },
  "language_info": {
   "codemirror_mode": {
    "name": "ipython",
    "version": 3
   },
   "file_extension": ".py",
   "mimetype": "text/x-python",
   "name": "python",
   "nbconvert_exporter": "python",
   "pygments_lexer": "ipython3",
   "version": "3.6.4"
  }
 },
 "nbformat": 4,
 "nbformat_minor": 2
}
